{
 "cells": [
  {
   "cell_type": "code",
   "execution_count": 1,
   "metadata": {},
   "outputs": [],
   "source": [
    "import numpy as np\n",
    "import matplotlib.pyplot as plt\n",
    "from scipy.stats import norm, expon, t"
   ]
  },
  {
   "cell_type": "markdown",
   "metadata": {},
   "source": [
    "# Exercise 1:"
   ]
  },
  {
   "cell_type": "markdown",
   "metadata": {},
   "source": [
    "# Exercise 2:\n",
    "\n",
    "$$f(x) = \\frac{e^{-x^2/2}}{\\sqrt{2\\pi}}$$\n",
    "$$f(x) = \\alpha e^{-|x|}$$\n",
    "\n",
    "__1) for g to be a density function:__  \n",
    "$$\\int \\alpha e^{-|x|} dx = 1$$\n",
    "$$\\int_{-\\infty}^0 \\alpha e^{x} dx + \\int_{0}^{\\infty} \\alpha e^{-x} dx = 1$$\n",
    "$$\\alpha (e^x\\Big|_{-\\infty}^0 - e^{-x}\\Big|_0^{\\infty}) = \\alpha((1 - 0) - (0 - 1)) = 2\\alpha= 1$$\n",
    "$$\\alpha = \\frac{1}{2}$$\n",
    "\n",
    "So,\n",
    "$$g(x) = \\frac{1}{2} e^{-|x|}$$\n",
    "$$G(x) = \\int_{-\\infty}^x \\frac{1}{2} e^{-|t|} dt = \\begin{cases} \\frac{1}{2}e^x, & x \\le 0 \\\\ 1 - \\frac{1}{2}e^{-x}, & x \\gt 0 \\end{cases}$$\n",
    "\n",
    "__2) We can use ICDF method to draw from g:__\n",
    "$$G^{-1}(y) = \\begin{cases} ln(2y), & y \\le 0.5 \\\\ -ln(2 - 2y), & y \\gt 0.5 \\end{cases}$$"
   ]
  },
  {
   "cell_type": "code",
   "execution_count": 2,
   "metadata": {},
   "outputs": [],
   "source": [
    "def sample_distribution(sampling_size, distribution_icdf_func, icdf_func_paras, random_seed = 0):\n",
    "    \"\"\"Sampling the target distribution using its inverse cdf\n",
    "\n",
    "    Keyword arguments:\n",
    "    sampling_size -- sampling size\n",
    "    distribution_icdf_func -- inverse cdf function of the target distribution p -> x\n",
    "    icdf_func_paras -- dictionary of distribution_icdf_func parameters    \n",
    "    random_seed -- for reproducible purpose\n",
    "    \n",
    "    Returns: \n",
    "    distribution_sampling: sampling array of the target distribution\n",
    "    \"\"\"\n",
    "    np.random.seed(random_seed) # for reproduce purpose\n",
    "    uniform_sampling = np.random.rand(sampling_size) # sampling uniform distribution\n",
    "    distribution_sampling = distribution_icdf_func(uniform_sampling, **icdf_func_paras) # sampling with provided inverse cdf\n",
    "    return distribution_sampling\n",
    "    \n",
    "def plot_distribution_histogram(sampling, distribution_pdf_func, pdf_func_paras, range=(-10, 10)):\n",
    "    plt.hist(sampling, density=True, range=range, bins=100, edgecolor='black')\n",
    "    plt.xlabel('x')\n",
    "    plt.ylabel('P(x)')\n",
    "    \n",
    "    xs = np.linspace(range[0],range[1],1000)\n",
    "    f_x = distribution_pdf_func(xs, **pdf_func_paras)\n",
    "    plt.plot(xs, f_x)\n",
    "\n",
    "    plt.show()\n",
    "    \n",
    "sampling_size = 1000000"
   ]
  },
  {
   "cell_type": "code",
   "execution_count": 3,
   "metadata": {},
   "outputs": [
    {
     "data": {
      "image/png": "[encoded data removed]",
      "text/plain": [
       "<Figure size 432x288 with 1 Axes>"
      ]
     },
     "metadata": {
      "needs_background": "light"
     },
     "output_type": "display_data"
    }
   ],
   "source": [
    "def g_pdf(x_val):    \n",
    "    f_val = 0.5 * np.exp(-np.abs(x_val))\n",
    "    return f_val\n",
    "\n",
    "def g_inverse_cdf(p_val):    \n",
    "    x_val = np.log(2*p_val)\n",
    "    x_val[p_val > 0.5] = - np.log(2 - 2*p_val[p_val > 0.5])\n",
    "    return x_val\n",
    "\n",
    "g_sampling = sample_distribution(sampling_size, g_inverse_cdf, {})\n",
    "plot_distribution_histogram(g_sampling, g_pdf, {}, range=(-5, 5))"
   ]
  },
  {
   "cell_type": "markdown",
   "metadata": {},
   "source": [
    "__3) Sample $Y = \\epsilon Z$__  \n",
    "\n",
    "With:\n",
    "$$P(\\epsilon = -1) = P(\\epsilon = 1) = 1/2$$\n",
    "$$Z \\sim Exp(1)$$\n",
    "\n",
    "Steps:  \n",
    "1. Sample Z according to Exp(1)  \n",
    "2. For each z, draw $U \\sim U[0,1]$  \n",
    "2.1. If U < 0.5, z = -z  \n",
    "2.2. If U > 0.5, z = z"
   ]
  },
  {
   "cell_type": "code",
   "execution_count": 4,
   "metadata": {},
   "outputs": [
    {
     "data": {
      "image/png": "[encoded data removed]",
      "text/plain": [
       "<Figure size 432x288 with 1 Axes>"
      ]
     },
     "metadata": {
      "needs_background": "light"
     },
     "output_type": "display_data"
    }
   ],
   "source": [
    "def exponential_pdf(x_val, lambda_val):    \n",
    "    f_val = lambda_val * np.exp(-lambda_val * x_val)\n",
    "    return f_val\n",
    "\n",
    "def exponential_inverse_cdf(p_val, lambda_val):    \n",
    "    x_val = - np.log(1 - p_val) / lambda_val\n",
    "    return x_val\n",
    "\n",
    "def binomial_inverse_cdf(p_val):    \n",
    "    x_val = np.array([-1 if p <= 0.5 else 1 for p in p_val])    \n",
    "    return x_val\n",
    "\n",
    "paras = {'lambda_val': 1}\n",
    "\n",
    "exponential_sampling = sample_distribution(sampling_size, exponential_inverse_cdf, paras, 0)\n",
    "\n",
    "binomial_sampling = sample_distribution(sampling_size, binomial_inverse_cdf, {}, 1)\n",
    "\n",
    "y_sampling = exponential_sampling * binomial_sampling\n",
    "\n",
    "plot_distribution_histogram(y_sampling, g_pdf, {}, range=(-5, 5))"
   ]
  },
  {
   "cell_type": "markdown",
   "metadata": {},
   "source": [
    "__4) Draw $X \\sim N(0,1)$ by rejection method__  "
   ]
  },
  {
   "cell_type": "code",
   "execution_count": 5,
   "metadata": {},
   "outputs": [],
   "source": [
    "def rejection_sampling(n_samples, target_distribution_pdf, target_distribution_parameters, \n",
    "                        proposal_distribution_pdf, proposal_distribution_icdf, proposal_distribution_parameters,\n",
    "                        proposal_distribution_constant, \n",
    "                        display=True, random_seed = 0):\n",
    "    \"\"\"Sampling the target distribution from a proposed distribution follow rejection sampling\n",
    "\n",
    "    Keyword arguments:\n",
    "    n_samples -- sampling size\n",
    "    target_distribution_pdf -- pdf function of the target distribution x -> f(x)\n",
    "    target_distribution_parameters -- dictionary of target_distribution_pdf parameters\n",
    "    proposal_distribution_pdf -- pdf function of the propose distribution x -> g(x)\n",
    "    proposal_distribution_icdf -- icdf function of the propose distribution x -> g(x)\n",
    "    proposal_distribution_parameters -- dictionary of proposal_distribution_icdf parameters\n",
    "    proposal_distribution_constant -- constant so that f(x) <= M g(x)\n",
    "    display -- flag to display acceptance percentage\n",
    "    random_seed -- for reproducible purpose\n",
    "    \n",
    "    Returns: \n",
    "    target_sampling: sampling array of the target distribution\n",
    "    \"\"\"\n",
    "    # Initialize the sampling result array\n",
    "    target_sampling = np.array([])\n",
    "    sampled_size = 0\n",
    "    \n",
    "    # Sample until reach n_samples size\n",
    "    while len(target_sampling) < n_samples:\n",
    "        left = n_samples - len(target_sampling)\n",
    "        sampling_batch_size = int(n_samples / 2)\n",
    "        \n",
    "        # Sampling from uniform distribution by batch\n",
    "        np.random.seed(random_seed)\n",
    "        uniform_sampling = np.random.rand(sampling_batch_size)\n",
    "        \n",
    "        # Sampling x from propose distribution's inverse cdf        \n",
    "        xs = sample_distribution(sampling_batch_size, proposal_distribution_icdf, proposal_distribution_parameters, left)\n",
    "        \n",
    "        # Calculate ratio f(x) / M*g(x)\n",
    "        g_xs = proposal_distribution_pdf(xs, **proposal_distribution_parameters)\n",
    "        f_xs = target_distribution_pdf(xs, **target_distribution_parameters)\n",
    "        fg_ratio = f_xs / (proposal_distribution_constant * g_xs)\n",
    "        \n",
    "        # Filter samples that can be accepted\n",
    "        accepted_samples = xs[uniform_sampling <= fg_ratio]\n",
    "        if len(accepted_samples) > left:\n",
    "            accepted_samples = np.random.choice(accepted_samples, left, False)\n",
    "        \n",
    "        # Add accepted samples to sampling result array\n",
    "        target_sampling = np.append(target_sampling, accepted_samples)\n",
    "        sampled_size += sampling_batch_size\n",
    "    \n",
    "    if display:\n",
    "        print(\"Sampling size:\", len(target_sampling), '; Sampled size:', sampled_size, \"; Accepted %:\", len(target_sampling) / sampled_size)\n",
    "    \n",
    "    return target_sampling\n",
    "\n",
    "def plot_pair_distribution(target_distribution_pdf_func, target_pdf_func_paras,\n",
    "                           propose_distribution_pdf_func, propose_pdf_func_paras, \n",
    "                           proposal_distribution_constant = 1,\n",
    "                           range=(-10, 10)):\n",
    "    xs = np.linspace(range[0],range[1],1000)\n",
    "    \n",
    "    target_fx = target_distribution_pdf_func(xs, **target_pdf_func_paras)\n",
    "    propose_fx = propose_distribution_pdf_func(xs, **propose_pdf_func_paras)\n",
    "    \n",
    "    plt.plot(xs, target_fx, label='target pdf')\n",
    "    plt.plot(xs, proposal_distribution_constant * propose_fx, label='propose pdf * {}'.format(proposal_distribution_constant))\n",
    "    \n",
    "    plt.legend()\n",
    "    plt.xlabel('x')\n",
    "    plt.ylabel('P(x)')\n",
    "    plt.show()"
   ]
  },
  {
   "cell_type": "code",
   "execution_count": 6,
   "metadata": {},
   "outputs": [
    {
     "data": {
      "image/png": "[encoded data removed]",
      "text/plain": [
       "<Figure size 432x288 with 1 Axes>"
      ]
     },
     "metadata": {
      "needs_background": "light"
     },
     "output_type": "display_data"
    }
   ],
   "source": [
    "def gaussian_distribution_pdf(x):\n",
    "    return np.exp(-(x**2)/2) / np.sqrt(2 * np.pi)\n",
    "\n",
    "plot_pair_distribution(gaussian_distribution_pdf, {},\n",
    "                        g_pdf, {}, \n",
    "                        proposal_distribution_constant = 1.5,\n",
    "                        range=(-5, 5))"
   ]
  },
  {
   "cell_type": "code",
   "execution_count": 7,
   "metadata": {},
   "outputs": [
    {
     "name": "stdout",
     "output_type": "stream",
     "text": [
      "Sampling size: 1000000 ; Sampled size: 1500000 ; Accepted %: 0.6666666666666666\n"
     ]
    },
    {
     "data": {
      "image/png": "[encoded data removed]",
      "text/plain": [
       "<Figure size 432x288 with 1 Axes>"
      ]
     },
     "metadata": {
      "needs_background": "light"
     },
     "output_type": "display_data"
    }
   ],
   "source": [
    "proposal_distribution_constant = 1.5\n",
    "\n",
    "sampling = rejection_sampling(n_samples=sampling_size, \n",
    "                        target_distribution_pdf=gaussian_distribution_pdf, target_distribution_parameters={}, \n",
    "                        proposal_distribution_pdf=g_pdf, proposal_distribution_icdf=g_inverse_cdf, proposal_distribution_parameters={},\n",
    "                        proposal_distribution_constant = proposal_distribution_constant)\n",
    "\n",
    "plot_distribution_histogram(sampling, gaussian_distribution_pdf, {}, range=(-5, 5))"
   ]
  },
  {
   "cell_type": "markdown",
   "metadata": {},
   "source": [
    "# Exercise 3:  \n",
    "\n",
    "Estimation of Black Scholes formula\n",
    "\n",
    "Give a 95% confidence interval of:\n",
    "$$C = E[e^{-rT}(S_T - K)^+]$$\n",
    "\n",
    "Where:\n",
    "$$S_t = S_0 e^{(r- \\sigma^2/2)t + \\sigma B_t}$$\n",
    "$$B_t \\sim Brownian$$"
   ]
  },
  {
   "cell_type": "code",
   "execution_count": 8,
   "metadata": {},
   "outputs": [
    {
     "name": "stdout",
     "output_type": "stream",
     "text": [
      "Mean and Var of Brownian motion: 0.000949847837937593 2.0009891534047877\n"
     ]
    }
   ],
   "source": [
    "def sample_brownian(n_samples, T, random_seed=0):\n",
    "    X = np.array([0] * n_samples)\n",
    "    gaussian_rv = norm(loc=0, scale=1)\n",
    "    np.random.seed(random_seed)\n",
    "    \n",
    "    for i in range(1, T+1):\n",
    "        ps = np.random.rand(n_samples)\n",
    "        xs = gaussian_rv.ppf(ps)\n",
    "        \n",
    "        X = X + xs\n",
    "        \n",
    "    return X\n",
    "\n",
    "Bt = sample_brownian(sampling_size, 2)\n",
    "print('Mean and Var of Brownian motion:', np.mean(Bt), np.var(Bt))"
   ]
  },
  {
   "cell_type": "code",
   "execution_count": 9,
   "metadata": {},
   "outputs": [
    {
     "data": {
      "text/plain": [
       "(11.741286596307456, 12.093949653205913)"
      ]
     },
     "execution_count": 9,
     "metadata": {},
     "output_type": "execute_result"
    }
   ],
   "source": [
    "def sample_Black_Scholes(n_samples, S0, K, sigma, r, T, random_seed=0):\n",
    "    Bt = sample_brownian(n_samples, T, random_seed)\n",
    "    St = S0 * np.exp((r - sigma**2/2) * T + sigma * Bt)\n",
    "    \n",
    "    return St\n",
    "\n",
    "def get_Black_Scholes_Confidence_Interval(n_samples, S0, K, sigma, r, T, alpha=0.05, random_seed=0):\n",
    "    St = sample_Black_Scholes(n_samples, S0, K, sigma, r, T, random_seed)\n",
    "    \n",
    "    C = St - K\n",
    "    C[C < 0] = 0\n",
    "    C = np.exp(-r * T) * C\n",
    "    \n",
    "    t_alpha = t.isf(alpha/2, n_samples-1)\n",
    "    C_mean, C_std = np.mean(C), np.std(C, ddof=1)\n",
    "    n_sqrt = np.sqrt(sampling_size)\n",
    "    CI = (C_mean - t_alpha * C_std / n_sqrt, C_mean + t_alpha * C_std / n_sqrt)\n",
    "    \n",
    "    return CI\n",
    "\n",
    "CI = get_Black_Scholes_Confidence_Interval(n_samples=sampling_size, S0=20, K=25, sigma=1, r=0.05, T=3, alpha=0.05)\n",
    "CI"
   ]
  },
  {
   "cell_type": "code",
   "execution_count": null,
   "metadata": {},
   "outputs": [],
   "source": []
  }
 ],
 "metadata": {
  "hide_input": false,
  "kernelspec": {
   "display_name": "Python 3 (base)",
   "language": "python",
   "name": "base"
  },
  "language_info": {
   "codemirror_mode": {
    "name": "ipython",
    "version": 3
   },
   "file_extension": ".py",
   "mimetype": "text/x-python",
   "name": "python",
   "nbconvert_exporter": "python",
   "pygments_lexer": "ipython3",
   "version": "3.7.4"
  },
  "latex_envs": {
   "LaTeX_envs_menu_present": true,
   "autoclose": false,
   "autocomplete": true,
   "bibliofile": "biblio.bib",
   "cite_by": "apalike",
   "current_citInitial": 1,
   "eqLabelWithNumbers": true,
   "eqNumInitial": 1,
   "hotkeys": {
    "equation": "Ctrl-E",
    "itemize": "Ctrl-I"
   },
   "labels_anchors": false,
   "latex_user_defs": false,
   "report_style_numbering": false,
   "user_envs_cfg": false
  },
  "toc": {
   "base_numbering": 1,
   "nav_menu": {},
   "number_sections": true,
   "sideBar": true,
   "skip_h1_title": false,
   "title_cell": "Table of Contents",
   "title_sidebar": "Contents",
   "toc_cell": false,
   "toc_position": {},
   "toc_section_display": true,
   "toc_window_display": false
  },
  "varInspector": {
   "cols": {
    "lenName": 16,
    "lenType": 16,
    "lenVar": 40
   },
   "kernels_config": {
    "python": {
     "delete_cmd_postfix": "",
     "delete_cmd_prefix": "del ",
     "library": "var_list.py",
     "varRefreshCmd": "print(var_dic_list())"
    },
    "r": {
     "delete_cmd_postfix": ") ",
     "delete_cmd_prefix": "rm(",
     "library": "var_list.r",
     "varRefreshCmd": "cat(var_dic_list()) "
    }
   },
   "types_to_exclude": [
    "module",
    "function",
    "builtin_function_or_method",
    "instance",
    "_Feature"
   ],
   "window_display": false
  }
 },
 "nbformat": 4,
 "nbformat_minor": 4
}
